{
 "cells": [
  {
   "cell_type": "code",
   "execution_count": 1,
   "metadata": {},
   "outputs": [],
   "source": [
    "%matplotlib widget\n",
    "import numpy as np\n",
    "import matplotlib.pyplot as plt\n",
    "from scipy import ndimage\n",
    "from scipy.stats import gaussian_kde\n",
    "\n",
    "from dm4_functions import plot_dm4\n",
    "from analysis_4DSTEM import fit_laue_circles, decompose_phi_from_circle, plot_laue_circle_results"
   ]
  },
  {
   "cell_type": "code",
   "execution_count": 12,
   "metadata": {},
   "outputs": [],
   "source": [
    "data = np.load('4_Te_115x17_ss=3nm_CL=245_alpha=p48_p06sec_no beamstop_bin4_300kV_rotated_stack_float32.npy')\n",
    "data_log = np.log(data - data.min() + 100)\n",
    "\n",
    "peaks = np.load('locations_hough_nano4_day02_50_peaks_rot_blob_log.npy')"
   ]
  },
  {
   "cell_type": "code",
   "execution_count": 4,
   "metadata": {},
   "outputs": [
    {
     "data": {
      "application/vnd.jupyter.widget-view+json": {
       "model_id": "967488551be24314b1ed0ffbbe695699",
       "version_major": 2,
       "version_minor": 0
      },
      "text/plain": [
       "Canvas(toolbar=Toolbar(toolitems=[('Home', 'Reset original view', 'home', 'home'), ('Back', 'Back to previous …"
      ]
     },
     "metadata": {},
     "output_type": "display_data"
    },
    {
     "data": {
      "text/plain": [
       "<matplotlib.image.AxesImage at 0x1413e0d2448>"
      ]
     },
     "execution_count": 4,
     "metadata": {},
     "output_type": "execute_result"
    }
   ],
   "source": [
    "mask = np.loadtxt('nano4 recon mask.txt').astype(bool)\n",
    "fig, ax = plt.subplots()\n",
    "ax.matshow(mask)"
   ]
  },
  {
   "cell_type": "code",
   "execution_count": 5,
   "metadata": {},
   "outputs": [
    {
     "data": {
      "application/vnd.jupyter.widget-view+json": {
       "model_id": "3259a496c32c48b6a2e410603f674c7b",
       "version_major": 2,
       "version_minor": 0
      },
      "text/plain": [
       "Canvas(toolbar=Toolbar(toolitems=[('Home', 'Reset original view', 'home', 'home'), ('Back', 'Back to previous …"
      ]
     },
     "metadata": {},
     "output_type": "display_data"
    },
    {
     "name": "stdout",
     "output_type": "stream",
     "text": [
      "[244.41607062 258.45248215]\n"
     ]
    }
   ],
   "source": [
    "box = 30\n",
    "center = (245, 258) # approx\n",
    "\n",
    "VBF = np.sum(data[..., center[0] - box//2:center[0] + box//2, center[1] - box//2 : center[1] + box//2], axis=(-2, -1))\n",
    "\n",
    "# direct beam location\n",
    "com = np.empty(data.shape[:2] + (2,))\n",
    "for i, j in np.ndindex(data.shape[:2]):\n",
    "    crop = data[i, j, center[0] - box//2:center[0] + box//2, center[1] - box//2 : center[1] + box//2]\n",
    "\n",
    "    com[i, j] = ndimage.center_of_mass(crop)\n",
    "\n",
    "kde = gaussian_kde((com[..., 0].ravel(), com[..., 1].ravel()), bw_method=2)\n",
    "\n",
    "fig, ax = plt.subplots()\n",
    "ax.matshow(VBF)\n",
    "\n",
    "grid = np.meshgrid(np.linspace(com[..., 0].min(), com[..., 0].max()), np.linspace(com[..., 1].min(), com[..., 1].max()))\n",
    "\n",
    "com_kde = kde(np.stack([i.ravel() for i in grid])).reshape(grid[0].shape).T\n",
    "idx = np.unravel_index(com.argmax(), com_kde.shape)\n",
    "\n",
    "cm0 = np.array(center) - box//2 + (grid[0][idx], grid[1][idx])\n",
    "print(cm0)"
   ]
  },
  {
   "cell_type": "markdown",
   "metadata": {},
   "source": [
    "## Take 12 most intense spots"
   ]
  },
  {
   "cell_type": "code",
   "execution_count": 7,
   "metadata": {},
   "outputs": [],
   "source": [
    "peaks12 = np.full(data.shape[:2] + (15, 2), np.nan)\n",
    "\n",
    "for i, j in np.ndindex(data.shape[:2]):\n",
    "    if not mask[i, j]:\n",
    "        continue\n",
    "\n",
    "    p = peaks[i, j][~np.isnan(peaks[i, j]).any(axis=1)][..., ::-1]\n",
    "\n",
    "    intens = data[i, j][tuple(p.astype(int).T)]\n",
    "\n",
    "    out = p[np.argsort(intens)[::-1]][:peaks12.shape[2]]\n",
    "    peaks12[i, j][:out.shape[0]] = out"
   ]
  },
  {
   "cell_type": "code",
   "execution_count": 8,
   "metadata": {},
   "outputs": [],
   "source": [
    "circle_parameters = np.load('circle_coords_fmin_nano4_day02_15_peaks_final.npy')\n",
    "\n",
    "pixel_size = 0.04696889 # 1/nm\n",
    "wavelength = 1.96e-3\n",
    "\n",
    "phix, phiy = decompose_phi_from_circle(circle_parameters, cm0, pixel_size, wavelength)"
   ]
  },
  {
   "cell_type": "code",
   "execution_count": 9,
   "metadata": {},
   "outputs": [
    {
     "data": {
      "application/vnd.jupyter.widget-view+json": {
       "model_id": "6dcc92a9efcb4918bfa1516819b0e3df",
       "version_major": 2,
       "version_minor": 0
      },
      "text/plain": [
       "Canvas(toolbar=Toolbar(toolitems=[('Home', 'Reset original view', 'home', 'home'), ('Back', 'Back to previous …"
      ]
     },
     "metadata": {},
     "output_type": "display_data"
    }
   ],
   "source": [
    "fig, ax = plt.subplots(nrows=2)\n",
    "\n",
    "layer = np.ones(data.shape[:2] + (4,))\n",
    "layer[mask, -1] = 0\n",
    "\n",
    "cmap= 'Spectral'\n",
    "ax[0].matshow(phiy, cmap=cmap)\n",
    "ax[1].matshow(phix, cmap=cmap)\n",
    "\n",
    "for a in ax:\n",
    "    a.imshow(layer)"
   ]
  },
  {
   "cell_type": "code",
   "execution_count": 13,
   "metadata": {},
   "outputs": [
    {
     "data": {
      "application/vnd.jupyter.widget-view+json": {
       "model_id": "a24d05a61db341b1aec933b6486755e0",
       "version_major": 2,
       "version_minor": 0
      },
      "text/plain": [
       "Canvas(toolbar=Toolbar(toolitems=[('Home', 'Reset original view', 'home', 'home'), ('Back', 'Back to previous …"
      ]
     },
     "metadata": {},
     "output_type": "display_data"
    },
    {
     "data": {
      "application/vnd.jupyter.widget-view+json": {
       "model_id": "1a6aed06e52240a2b73c66ef2fcec5d2",
       "version_major": 2,
       "version_minor": 0
      },
      "text/plain": [
       "interactive(children=(IntSlider(value=8, description='i', max=16), IntSlider(value=57, description='j', max=11…"
      ]
     },
     "metadata": {},
     "output_type": "display_data"
    }
   ],
   "source": [
    "plot_laue_circle_results(data_log, phix, phiy, VBF, mask, circle_parameters, peaks12)"
   ]
  },
  {
   "cell_type": "code",
   "execution_count": null,
   "metadata": {},
   "outputs": [],
   "source": []
  }
 ],
 "metadata": {
  "kernelspec": {
   "display_name": "Python [conda env:py3.7]",
   "language": "python",
   "name": "conda-env-py3.7-py"
  },
  "language_info": {
   "codemirror_mode": {
    "name": "ipython",
    "version": 3
   },
   "file_extension": ".py",
   "mimetype": "text/x-python",
   "name": "python",
   "nbconvert_exporter": "python",
   "pygments_lexer": "ipython3",
   "version": "3.7.10"
  }
 },
 "nbformat": 4,
 "nbformat_minor": 2
}
